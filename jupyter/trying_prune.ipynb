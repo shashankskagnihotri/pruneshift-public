{
 "cells": [
  {
   "cell_type": "code",
   "execution_count": 62,
   "metadata": {},
   "outputs": [],
   "source": [
    "from pruneshift.prune import simple_prune\n",
    "from pruneshift.prune import L1Unstructured\n",
    "from pruneshift.topologies import network_topology\n",
    "\n",
    "import torch\n",
    "from torch.nn.utils.prune import Identity\n",
    "import tempfile\n",
    "from pathlib import Path\n",
    "\n",
    "tmp_dir = Path(tempfile.mkdtemp())\n",
    "path_pruned = tmp_dir/\"pruned.chpt\"\n",
    "path_unpruned = tmp_dir/\"unpruned.chpt\""
   ]
  },
  {
   "cell_type": "code",
   "execution_count": 55,
   "metadata": {},
   "outputs": [],
   "source": [
    "def same_network(net):\n",
    "    \"\"\"Heuristic to check whether we have the same net.\"\"\"\n",
    "    def _same_network(net):\n",
    "        x = torch.ones([1, 3, 32, 32])\n",
    "        orig_y = net(x)\n",
    "        while True:\n",
    "            net = yield\n",
    "            y = net(x)\n",
    "            is_equal = (orig_y == y).all()\n",
    "            print(f\"The output has not changed: {is_equal}\")\n",
    "            if not is_equal:\n",
    "                norm_diff = torch.norm(orig_y - y)\n",
    "                print(f\"The norm of the difference is: {norm_diff}\")\n",
    "    gen = _same_network(net)\n",
    "    gen.send(None)\n",
    "    return gen"
   ]
  },
  {
   "cell_type": "code",
   "execution_count": 68,
   "metadata": {},
   "outputs": [
    {
     "name": "stdout",
     "output_type": "stream",
     "text": [
      "Doing some pruning.\n",
      "Saving the state of the network.\n",
      "Deleted the network.\n",
      "Recreating the default network.\n",
      "The output has not changed: False\n",
      "The norm of the difference is: 2.707881450653076\n",
      "Reloading the network with custom mask.\n",
      "Reloading the network state.\n",
      "The output has not changed: True\n",
      "Check whether the network pruning is smart\n",
      "The output has not changed: False\n",
      "The norm of the difference is: 0.00023480765230488032\n"
     ]
    }
   ],
   "source": [
    "# We still would need to recreate the net with the corresponding pruning method.\n",
    "net = network_topology(\"cifar10_resnet18\", pretrained=False)\n",
    "torch.save(net.state_dict(), path_unpruned)\n",
    "print(\"Doing some pruning.\")\n",
    "simple_prune(net, L1Unstructured, amount=0.1)\n",
    "simple_prune(net, L1Unstructured, amount=0.2)\n",
    "check = same_network(net)\n",
    "print(\"Saving the state of the network.\")\n",
    "torch.save(net.state_dict(), path_pruned)\n",
    "del net\n",
    "pruned_state = torch.load(path_pruned)\n",
    "unpruned_state = torch.load(path_unpruned)\n",
    "print(\"Deleted the network.\")\n",
    "print(\"Recreating the default network.\")\n",
    "net = network_topology(\"cifar10_resnet18\", pretrained=False)\n",
    "check.send(net)\n",
    "print(\"Reloading the network with custom mask.\")\n",
    "simple_prune(net, Identity)\n",
    "print(\"Reloading the network state.\")\n",
    "net.load_state_dict(pruned_state)\n",
    "check.send(net)\n",
    "del net\n",
    "print(\"Check whether the network pruning is smart\")\n",
    "net = network_topology(\"cifar10_resnet18\", pretrained=False)\n",
    "net.load_state_dict(unpruned_state)\n",
    "iter_amount = 0.1 + 0.9 * 0.2\n",
    "simple_prune(net, L1Unstructured, amount=iter_amount)\n",
    "check.send(net)"
   ]
  },
  {
   "cell_type": "markdown",
   "metadata": {},
   "source": [
    "Question:\n",
    " - The pruning method is indeed smart :) : it respects that there might be already some weights pruned and than calculates the update to prune regarding the already pruned network.\n",
    "\n",
    "Situation:\n",
    " - The compute mask is calculated once in the beginning in apply than the forward hook just looks up the mask in the corresponding buffer. Hence, it is probably not possible to allow learning of masks...\n",
    "\n",
    "Problem:\n",
    " - Reloading can be solved by applying a dummy pruning method like Identity.\n",
    " - Reloading i"
   ]
  }
 ],
 "metadata": {
  "kernelspec": {
   "display_name": "Python 3",
   "language": "python",
   "name": "python3"
  },
  "language_info": {
   "codemirror_mode": {
    "name": "ipython",
    "version": 3
   },
   "file_extension": ".py",
   "mimetype": "text/x-python",
   "name": "python",
   "nbconvert_exporter": "python",
   "pygments_lexer": "ipython3",
   "version": "3.8.5"
  }
 },
 "nbformat": 4,
 "nbformat_minor": 4
}

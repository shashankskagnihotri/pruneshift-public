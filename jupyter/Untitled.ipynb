{
 "cells": [
  {
   "cell_type": "code",
   "execution_count": 1,
   "metadata": {},
   "outputs": [],
   "source": [
    "import pathlib\n",
    "import os\n",
    "import time\n",
    "import pytorch_lightning as pl\n",
    "import torch.nn as nn\n",
    "import torch\n",
    "from typing import NamedTuple, Sequence\n",
    "from pruneshift import datamodule\n",
    "from pytorch_lightning.loggers import CSVLogger\n",
    "from pruneshift import topology\n",
    "from pytorch_lightning.metrics import Accuracy\n",
    "\n",
    "from pruneshift.prune.utils import simple_prune\n",
    "from pruneshift.prune.strategies import Absolute\n",
    "\n",
    "\n",
    "DATA_PATH = os.environ[\"DATASET_PATH\"]\n",
    "TRAIN_PATH = pathlib.Path(os.environ[\"EXPERIMENT_PATH\"]) / \"train\""
   ]
  },
  {
   "cell_type": "code",
   "execution_count": 21,
   "metadata": {},
   "outputs": [],
   "source": [
    "class ChptPath(NamedTuple):\n",
    "    model_name: str\n",
    "    datamodule_name: str\n",
    "    version: int\n",
    "    epoch: int\n",
    "    epoch_path: pathlib.Path\n",
    "\n",
    "def find_paths():\n",
    "    train_path = TRAIN_PATH\n",
    "    for config_path in train_path.iterdir():\n",
    "        model_name, dataset_name = config_path.stem.split('_')\n",
    "        for version_path in (config_path / \"lightning_logs\").iterdir():\n",
    "            version = version_path.stem.split('_')[-1]\n",
    "            for epoch_path in (version_path / \"checkpoints\").glob(\"*.ckpt\"):\n",
    "                epoch = epoch_path.stem.split('=')[-1]\n",
    "                yield ChptPath(model_name, dataset_name, version, epoch, epoch_path)\n",
    "\n",
    "\n",
    "def load_network(chpt: ChptPath):\n",
    "    print(\"Recreating network for {}.\".format(chpt))\n",
    "    start = time.time()\n",
    "    network = topology(chpt.model_name, num_classes=10)\n",
    "    state = torch.load(chpt.epoch_path)\n",
    "    # Remove the structure of the network \n",
    "    conv_state = {}\n",
    "    for name in state[\"state_dict\"]:\n",
    "        conv_state[name[8:]] = state[\"state_dict\"][name]\n",
    "    network.load_state_dict(conv_state)\n",
    "    print(\"Finished recreating network in {:.1f}s.\".format(time.time() - start))\n",
    "    return network\n",
    "\n",
    "\n",
    "class TestModule(pl.LightningModule):\n",
    "    \"\"\"Module for training models.\"\"\"\n",
    "    def __init__(self,\n",
    "                 network: nn.Module,\n",
    "                 labels: Sequence[str]):\n",
    "        super(TestModule, self).__init__()\n",
    "        self.network = network\n",
    "        self.labels = labels\n",
    "        self.accuracy = nn.ModuleDict({l: Accuracy() for l in labels})\n",
    "        self.statistics = None\n",
    "\n",
    "    def forward(self, x):\n",
    "        return self.network(x)\n",
    "\n",
    "    def test_step(self, batch, batch_idx, dataset_idx):\n",
    "        x, y = batch\n",
    "        self.accuracy[self.labels[dataset_idx]](y, torch.argmax(self(x), -1))\n",
    "        \n",
    "    def test_epoch_end(self, output):\n",
    "        self.statistics = {l: a.compute() for l, a in self.accuracy.items()}"
   ]
  },
  {
   "cell_type": "code",
   "execution_count": 22,
   "metadata": {},
   "outputs": [
    {
     "name": "stdout",
     "output_type": "stream",
     "text": [
      "Recreating network for ChptPath(model_name='vgg13', datamodule_name='CIFAR10', version='2', epoch='15', epoch_path=PosixPath('/misc/lmbraid19/hoffmaja/experiments/train/vgg13_CIFAR10/lightning_logs/version_2/checkpoints/epoch=15.ckpt')).\n",
      "Finished recreating network in 4.2s.\n"
     ]
    }
   ],
   "source": [
    "example = list(find_paths())[-1]\n",
    "network = load_network(example)\n",
    "data = datamodule(\"CIFAR10Corrupted\", root=DATA_PATH, num_workers=5)"
   ]
  },
  {
   "cell_type": "code",
   "execution_count": 26,
   "metadata": {},
   "outputs": [
    {
     "name": "stderr",
     "output_type": "stream",
     "text": [
      "GPU available: True, used: True\n",
      "TPU available: False, using: 0 TPU cores\n",
      "LOCAL_RANK: 0 - CUDA_VISIBLE_DEVICES: [0,1]\n"
     ]
    }
   ],
   "source": [
    "module = TestModule(network, data.labels)\n",
    "trainer = pl.Trainer(logger=CSVLogger(save_dir=\"/tmp/test_pruneshift\"),\n",
    "                     checkpoint_callback=False,\n",
    "                     gpus=1)"
   ]
  },
  {
   "cell_type": "code",
   "execution_count": 27,
   "metadata": {},
   "outputs": [
    {
     "data": {
      "application/vnd.jupyter.widget-view+json": {
       "model_id": "5126d12cb3704e43b6ab63f6865bd2fe",
       "version_major": 2,
       "version_minor": 0
      },
      "text/plain": [
       "HBox(children=(HTML(value='Testing'), FloatProgress(value=1.0, bar_style='info', layout=Layout(flex='2'), max=…"
      ]
     },
     "metadata": {},
     "output_type": "display_data"
    },
    {
     "name": "stdout",
     "output_type": "stream",
     "text": [
      "--------------------------------------------------------------------------------\n",
      "\n"
     ]
    },
    {
     "data": {
      "text/plain": [
       "378.3447206020355"
      ]
     },
     "execution_count": 27,
     "metadata": {},
     "output_type": "execute_result"
    }
   ],
   "source": [
    "start = time.time()\n",
    "trainer.test(module, datamodule=data)\n",
    "time.time() - start"
   ]
  },
  {
   "cell_type": "code",
   "execution_count": 28,
   "metadata": {},
   "outputs": [
    {
     "data": {
      "text/plain": [
       "{'undistorted': tensor(0.8190, device='cuda:0'),\n",
       " 'shot_noise_1': tensor(0.7855, device='cuda:0'),\n",
       " 'shot_noise_2': tensor(0.7466, device='cuda:0'),\n",
       " 'shot_noise_3': tensor(0.6405, device='cuda:0'),\n",
       " 'shot_noise_4': tensor(0.5942, device='cuda:0'),\n",
       " 'shot_noise_5': tensor(0.5130, device='cuda:0'),\n",
       " 'gaussian_noise_1': tensor(0.7513, device='cuda:0'),\n",
       " 'gaussian_noise_2': tensor(0.6682, device='cuda:0'),\n",
       " 'gaussian_noise_3': tensor(0.5771, device='cuda:0'),\n",
       " 'gaussian_noise_4': tensor(0.5350, device='cuda:0'),\n",
       " 'gaussian_noise_5': tensor(0.4871, device='cuda:0'),\n",
       " 'saturate_1': tensor(0.7953, device='cuda:0'),\n",
       " 'saturate_2': tensor(0.7734, device='cuda:0'),\n",
       " 'saturate_3': tensor(0.8065, device='cuda:0'),\n",
       " 'saturate_4': tensor(0.7681, device='cuda:0'),\n",
       " 'saturate_5': tensor(0.7130, device='cuda:0'),\n",
       " 'jpeg_compression_1': tensor(0.7926, device='cuda:0'),\n",
       " 'jpeg_compression_2': tensor(0.7675, device='cuda:0'),\n",
       " 'jpeg_compression_3': tensor(0.7604, device='cuda:0'),\n",
       " 'jpeg_compression_4': tensor(0.7525, device='cuda:0'),\n",
       " 'jpeg_compression_5': tensor(0.7403, device='cuda:0'),\n",
       " 'frost_1': tensor(0.8011, device='cuda:0'),\n",
       " 'frost_2': tensor(0.7655, device='cuda:0'),\n",
       " 'frost_3': tensor(0.7050, device='cuda:0'),\n",
       " 'frost_4': tensor(0.6963, device='cuda:0'),\n",
       " 'frost_5': tensor(0.6250, device='cuda:0'),\n",
       " 'defocus_blur_1': tensor(0.8161, device='cuda:0'),\n",
       " 'defocus_blur_2': tensor(0.8000, device='cuda:0'),\n",
       " 'defocus_blur_3': tensor(0.7592, device='cuda:0'),\n",
       " 'defocus_blur_4': tensor(0.6999, device='cuda:0'),\n",
       " 'defocus_blur_5': tensor(0.5608, device='cuda:0'),\n",
       " 'zoom_blur_1': tensor(0.7543, device='cuda:0'),\n",
       " 'zoom_blur_2': tensor(0.7407, device='cuda:0'),\n",
       " 'zoom_blur_3': tensor(0.7052, device='cuda:0'),\n",
       " 'zoom_blur_4': tensor(0.6768, device='cuda:0'),\n",
       " 'zoom_blur_5': tensor(0.6272, device='cuda:0'),\n",
       " 'snow_1': tensor(0.7682, device='cuda:0'),\n",
       " 'snow_2': tensor(0.6823, device='cuda:0'),\n",
       " 'snow_3': tensor(0.6915, device='cuda:0'),\n",
       " 'snow_4': tensor(0.6706, device='cuda:0'),\n",
       " 'snow_5': tensor(0.6632, device='cuda:0'),\n",
       " 'motion_blur_1': tensor(0.7875, device='cuda:0'),\n",
       " 'motion_blur_2': tensor(0.7398, device='cuda:0'),\n",
       " 'motion_blur_3': tensor(0.6795, device='cuda:0'),\n",
       " 'motion_blur_4': tensor(0.6821, device='cuda:0'),\n",
       " 'motion_blur_5': tensor(0.6183, device='cuda:0'),\n",
       " 'speckle_noise_1': tensor(0.7841, device='cuda:0'),\n",
       " 'speckle_noise_2': tensor(0.7123, device='cuda:0'),\n",
       " 'speckle_noise_3': tensor(0.6749, device='cuda:0'),\n",
       " 'speckle_noise_4': tensor(0.5902, device='cuda:0'),\n",
       " 'speckle_noise_5': tensor(0.5173, device='cuda:0'),\n",
       " 'gaussian_blur_1': tensor(0.8160, device='cuda:0'),\n",
       " 'gaussian_blur_2': tensor(0.7585, device='cuda:0'),\n",
       " 'gaussian_blur_3': tensor(0.7014, device='cuda:0'),\n",
       " 'gaussian_blur_4': tensor(0.6347, device='cuda:0'),\n",
       " 'gaussian_blur_5': tensor(0.4906, device='cuda:0'),\n",
       " 'brightness_1': tensor(0.8221, device='cuda:0'),\n",
       " 'brightness_2': tensor(0.8202, device='cuda:0'),\n",
       " 'brightness_3': tensor(0.8161, device='cuda:0'),\n",
       " 'brightness_4': tensor(0.8099, device='cuda:0'),\n",
       " 'brightness_5': tensor(0.7869, device='cuda:0'),\n",
       " 'pixelate_1': tensor(0.7998, device='cuda:0'),\n",
       " 'pixelate_2': tensor(0.7752, device='cuda:0'),\n",
       " 'pixelate_3': tensor(0.7572, device='cuda:0'),\n",
       " 'pixelate_4': tensor(0.6749, device='cuda:0'),\n",
       " 'pixelate_5': tensor(0.5504, device='cuda:0'),\n",
       " 'impulse_noise_1': tensor(0.7493, device='cuda:0'),\n",
       " 'impulse_noise_2': tensor(0.6637, device='cuda:0'),\n",
       " 'impulse_noise_3': tensor(0.5852, device='cuda:0'),\n",
       " 'impulse_noise_4': tensor(0.4453, device='cuda:0'),\n",
       " 'impulse_noise_5': tensor(0.3316, device='cuda:0'),\n",
       " 'fog_1': tensor(0.8223, device='cuda:0'),\n",
       " 'fog_2': tensor(0.8071, device='cuda:0'),\n",
       " 'fog_3': tensor(0.7752, device='cuda:0'),\n",
       " 'fog_4': tensor(0.7122, device='cuda:0'),\n",
       " 'fog_5': tensor(0.5399, device='cuda:0'),\n",
       " 'contrast_1': tensor(0.8164, device='cuda:0'),\n",
       " 'contrast_2': tensor(0.7431, device='cuda:0'),\n",
       " 'contrast_3': tensor(0.6432, device='cuda:0'),\n",
       " 'contrast_4': tensor(0.4710, device='cuda:0'),\n",
       " 'contrast_5': tensor(0.1980, device='cuda:0'),\n",
       " 'glass_blur_1': tensor(0.5971, device='cuda:0'),\n",
       " 'glass_blur_2': tensor(0.6078, device='cuda:0'),\n",
       " 'glass_blur_3': tensor(0.6370, device='cuda:0'),\n",
       " 'glass_blur_4': tensor(0.4965, device='cuda:0'),\n",
       " 'glass_blur_5': tensor(0.5279, device='cuda:0'),\n",
       " 'spatter_1': tensor(0.7872, device='cuda:0'),\n",
       " 'spatter_2': tensor(0.7356, device='cuda:0'),\n",
       " 'spatter_3': tensor(0.6837, device='cuda:0'),\n",
       " 'spatter_4': tensor(0.7135, device='cuda:0'),\n",
       " 'spatter_5': tensor(0.6358, device='cuda:0'),\n",
       " 'elastic_transform_1': tensor(0.7708, device='cuda:0'),\n",
       " 'elastic_transform_2': tensor(0.7699, device='cuda:0'),\n",
       " 'elastic_transform_3': tensor(0.7438, device='cuda:0'),\n",
       " 'elastic_transform_4': tensor(0.7091, device='cuda:0'),\n",
       " 'elastic_transform_5': tensor(0.6741, device='cuda:0')}"
      ]
     },
     "execution_count": 28,
     "metadata": {},
     "output_type": "execute_result"
    }
   ],
   "source": [
    "module.statistics"
   ]
  },
  {
   "cell_type": "code",
   "execution_count": 32,
   "metadata": {},
   "outputs": [
    {
     "data": {
      "text/plain": [
       "24.0"
      ]
     },
     "execution_count": 32,
     "metadata": {},
     "output_type": "execute_result"
    }
   ],
   "source": [
    "6 * 20 * 6 * 1 / 60 * 2"
   ]
  },
  {
   "cell_type": "code",
   "execution_count": 33,
   "metadata": {},
   "outputs": [
    {
     "data": {
      "text/plain": [
       "3.0"
      ]
     },
     "execution_count": 33,
     "metadata": {},
     "output_type": "execute_result"
    }
   ],
   "source": [
    "24 / 8"
   ]
  },
  {
   "cell_type": "code",
   "execution_count": null,
   "metadata": {},
   "outputs": [],
   "source": []
  }
 ],
 "metadata": {
  "kernelspec": {
   "display_name": "Python 3",
   "language": "python",
   "name": "python3"
  },
  "language_info": {
   "codemirror_mode": {
    "name": "ipython",
    "version": 3
   },
   "file_extension": ".py",
   "mimetype": "text/x-python",
   "name": "python",
   "nbconvert_exporter": "python",
   "pygments_lexer": "ipython3",
   "version": "3.6.8"
  }
 },
 "nbformat": 4,
 "nbformat_minor": 4
}
